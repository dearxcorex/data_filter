{
 "cells": [
  {
   "cell_type": "code",
   "execution_count": 1,
   "metadata": {},
   "outputs": [],
   "source": [
    "import pandas as pd"
   ]
  },
  {
   "cell_type": "code",
   "execution_count": 2,
   "metadata": {},
   "outputs": [],
   "source": [
    "df = pd.read_excel('data/fm_data_23_68.xlsx')"
   ]
  },
  {
   "cell_type": "code",
   "execution_count": 3,
   "metadata": {},
   "outputs": [
    {
     "data": {
      "text/plain": [
       "Index(['รหัสสถานี', 'ชื่อผู้ได้รับใบอนุญาต', 'ชื่อสถานี', 'ความถี่', 'พื้นที่',\n",
       "       'เลขที่ใบอนุญาต', 'ประเภทบริการ/กิจการ', 'สถานะใบอนุญาต ปี 2567 (eBcs)',\n",
       "       'เลขที่', 'หมู่บ้าน', 'หมู่', 'ซอย', 'ถนน', 'ตำบล/แขวง', 'อำเภอ',\n",
       "       'จังหวัด', 'ละติจูด', 'ลองจิจูด', 'ตรวจสอบมาตรฐาน 2566 ',\n",
       "       'ตรวจสอบมาตรฐาน 2567 ', 'ตรวจการแพร่แปลกปลอม ', 'ยื่นคำขอ 10/1/68   ',\n",
       "       'หมายเหตุ'],\n",
       "      dtype='object')"
      ]
     },
     "execution_count": 3,
     "metadata": {},
     "output_type": "execute_result"
    }
   ],
   "source": [
    "df.columns\n"
   ]
  },
  {
   "cell_type": "code",
   "execution_count": 4,
   "metadata": {},
   "outputs": [],
   "source": [
    "provice_list = ['นครราชสีมา','ชัยภูมิ','บุรีรัมย์']\n",
    "df = df[df['จังหวัด'].isin(provice_list)]"
   ]
  },
  {
   "cell_type": "code",
   "execution_count": 5,
   "metadata": {},
   "outputs": [],
   "source": [
    "df.drop(columns=['เลขที่','หมู่บ้าน','หมู่','ซอย','ถนน','ตำบล/แขวง','พื้นที่','เลขที่ใบอนุญาต'], inplace=True)"
   ]
  },
  {
   "cell_type": "code",
   "execution_count": 6,
   "metadata": {},
   "outputs": [
    {
     "name": "stdout",
     "output_type": "stream",
     "text": [
      "<class 'pandas.core.frame.DataFrame'>\n",
      "Index: 307 entries, 222 to 613\n",
      "Data columns (total 15 columns):\n",
      " #   Column                        Non-Null Count  Dtype  \n",
      "---  ------                        --------------  -----  \n",
      " 0   รหัสสถานี                     307 non-null    object \n",
      " 1   ชื่อผู้ได้รับใบอนุญาต         307 non-null    object \n",
      " 2   ชื่อสถานี                     307 non-null    object \n",
      " 3   ความถี่                       307 non-null    float64\n",
      " 4   ประเภทบริการ/กิจการ           307 non-null    object \n",
      " 5   สถานะใบอนุญาต ปี 2567 (eBcs)  307 non-null    object \n",
      " 6   อำเภอ                         307 non-null    object \n",
      " 7   จังหวัด                       307 non-null    object \n",
      " 8   ละติจูด                       307 non-null    float64\n",
      " 9   ลองจิจูด                      307 non-null    float64\n",
      " 10  ตรวจสอบมาตรฐาน 2566           175 non-null    object \n",
      " 11  ตรวจสอบมาตรฐาน 2567           192 non-null    object \n",
      " 12  ตรวจการแพร่แปลกปลอม           293 non-null    object \n",
      " 13  ยื่นคำขอ 10/1/68              289 non-null    object \n",
      " 14  หมายเหตุ                      18 non-null     object \n",
      "dtypes: float64(3), object(12)\n",
      "memory usage: 38.4+ KB\n"
     ]
    }
   ],
   "source": [
    "df.info()"
   ]
  },
  {
   "cell_type": "code",
   "execution_count": 7,
   "metadata": {},
   "outputs": [],
   "source": [
    "#to csv\n",
    "df.to_csv('data/fm_data_23_68_filtered.csv', index=False)"
   ]
  },
  {
   "cell_type": "code",
   "execution_count": null,
   "metadata": {},
   "outputs": [],
   "source": []
  }
 ],
 "metadata": {
  "kernelspec": {
   "display_name": "web_fm",
   "language": "python",
   "name": "python3"
  },
  "language_info": {
   "codemirror_mode": {
    "name": "ipython",
    "version": 3
   },
   "file_extension": ".py",
   "mimetype": "text/x-python",
   "name": "python",
   "nbconvert_exporter": "python",
   "pygments_lexer": "ipython3",
   "version": "3.9.6"
  }
 },
 "nbformat": 4,
 "nbformat_minor": 2
}
